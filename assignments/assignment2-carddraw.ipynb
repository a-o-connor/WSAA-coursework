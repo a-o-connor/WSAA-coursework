{
 "cells": [
  {
   "cell_type": "code",
   "execution_count": 5,
   "metadata": {},
   "outputs": [],
   "source": [
    "import requests\n",
    "import json"
   ]
  },
  {
   "cell_type": "code",
   "execution_count": 70,
   "metadata": {},
   "outputs": [],
   "source": [
    "shuffle_url = \"https://deckofcardsapi.com/api/deck/new/shuffle/?deck_count=1\"\n",
    "shuffle = requests.get(shuffle_url)\n",
    "deck_id = shuffle.json()[\"deck_id\"]"
   ]
  },
  {
   "cell_type": "code",
   "execution_count": 75,
   "metadata": {},
   "outputs": [
    {
     "name": "stdout",
     "output_type": "stream",
     "text": [
      "3 OF SPADES\n",
      "2 OF SPADES\n"
     ]
    }
   ],
   "source": [
    "number_of_cards = 2\n",
    "draw_url = f\"https://deckofcardsapi.com/api/deck/{deck_id}/draw/?count={number_of_cards}\"\n",
    "drawn_cards = requests.get(draw_url).json()\n",
    "\n",
    "for i in range(number_of_cards):\n",
    "    card=drawn_cards[\"cards\"][i]\n",
    "    value=card['value']\n",
    "    suit=card[\"suit\"]\n",
    "    print(f\"{value} OF {suit}\")\n",
    "\n"
   ]
  }
 ],
 "metadata": {
  "kernelspec": {
   "display_name": "base",
   "language": "python",
   "name": "python3"
  },
  "language_info": {
   "codemirror_mode": {
    "name": "ipython",
    "version": 3
   },
   "file_extension": ".py",
   "mimetype": "text/x-python",
   "name": "python",
   "nbconvert_exporter": "python",
   "pygments_lexer": "ipython3",
   "version": "3.12.4"
  }
 },
 "nbformat": 4,
 "nbformat_minor": 2
}
