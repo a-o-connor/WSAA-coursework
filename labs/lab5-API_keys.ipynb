{
 "cells": [
  {
   "cell_type": "markdown",
   "metadata": {},
   "source": [
    "## Getting contents of a public repository\n",
    "- This does not require a key!"
   ]
  },
  {
   "cell_type": "code",
   "execution_count": null,
   "metadata": {},
   "outputs": [
    {
     "data": {
      "text/plain": [
       "<module 'config' from 'c:\\\\Users\\\\oconnora\\\\Desktop\\\\compsci_data_analytics_hdip\\\\semester_3\\\\WSAA\\\\WSAA-coursework\\\\labs\\\\config.py'>"
      ]
     },
     "execution_count": 26,
     "metadata": {},
     "output_type": "execute_result"
    }
   ],
   "source": [
    "import requests\n",
    "import json\n",
    "import urllib.parse\n",
    "import config\n",
    "import importlib"
   ]
  },
  {
   "cell_type": "code",
   "execution_count": 27,
   "metadata": {},
   "outputs": [],
   "source": [
    "importlib.reload(config)\n",
    "from config import config"
   ]
  },
  {
   "cell_type": "code",
   "execution_count": 28,
   "metadata": {},
   "outputs": [
    {
     "data": {
      "text/plain": [
       "['https://api.github.com/repos/a-o-connor/computer_infrastructure_assessment',\n",
       " 'https://api.github.com/repos/a-o-connor/palmerpenguins_data_analytics',\n",
       " 'https://api.github.com/repos/a-o-connor/pands-project',\n",
       " 'https://api.github.com/repos/a-o-connor/pands-weekly-tasks',\n",
       " 'https://api.github.com/repos/a-o-connor/PFDA-assignments',\n",
       " 'https://api.github.com/repos/a-o-connor/PFDA-project',\n",
       " 'https://api.github.com/repos/a-o-connor/WSAA-coursework']"
      ]
     },
     "execution_count": 28,
     "metadata": {},
     "output_type": "execute_result"
    }
   ],
   "source": [
    "url = \"  https://api.github.com/users/a-o-connor/repos\"\n",
    "response = requests.get(url)\n",
    "repo_json = response.json()\n",
    "\n",
    "repo_urls = []\n",
    "for i in range(0, len(repo_json)):\n",
    "    repo_urls.append(repo_json[i][\"url\"])\n",
    "\n",
    "repo_urls"
   ]
  },
  {
   "cell_type": "code",
   "execution_count": 29,
   "metadata": {},
   "outputs": [
    {
     "data": {
      "text/plain": [
       "['.gitignore',\n",
       " 'README.md',\n",
       " 'task_week02',\n",
       " 'task_week03',\n",
       " 'task_week04',\n",
       " 'task_week05',\n",
       " 'task_week06',\n",
       " 'task_week07',\n",
       " 'task_week08']"
      ]
     },
     "execution_count": 29,
     "metadata": {},
     "output_type": "execute_result"
    }
   ],
   "source": [
    "url = \"https://api.github.com/repos/a-o-connor/pands-weekly-tasks/contents\"\n",
    "response = requests.get(url)\n",
    "repo_json = response.json()\n",
    "\n",
    "docnames = []\n",
    "for i in range(0, len(repo_json)):\n",
    "    docnames.append(repo_json[i][\"name\"])\n",
    "\n",
    "docnames"
   ]
  },
  {
   "cell_type": "markdown",
   "metadata": {},
   "source": [
    "# Getting the contents of a private repo \n",
    "- Using a key "
   ]
  },
  {
   "cell_type": "code",
   "execution_count": 31,
   "metadata": {},
   "outputs": [
    {
     "data": {
      "text/plain": [
       "{'id': 940163734,\n",
       " 'node_id': 'R_kgDOOAnClg',\n",
       " 'name': 'example_private_repo',\n",
       " 'full_name': 'a-o-connor/example_private_repo',\n",
       " 'private': True,\n",
       " 'owner': {'login': 'a-o-connor',\n",
       "  'id': 157632616,\n",
       "  'node_id': 'U_kgDOCWVIaA',\n",
       "  'avatar_url': 'https://avatars.githubusercontent.com/u/157632616?v=4',\n",
       "  'gravatar_id': '',\n",
       "  'url': 'https://api.github.com/users/a-o-connor',\n",
       "  'html_url': 'https://github.com/a-o-connor',\n",
       "  'followers_url': 'https://api.github.com/users/a-o-connor/followers',\n",
       "  'following_url': 'https://api.github.com/users/a-o-connor/following{/other_user}',\n",
       "  'gists_url': 'https://api.github.com/users/a-o-connor/gists{/gist_id}',\n",
       "  'starred_url': 'https://api.github.com/users/a-o-connor/starred{/owner}{/repo}',\n",
       "  'subscriptions_url': 'https://api.github.com/users/a-o-connor/subscriptions',\n",
       "  'organizations_url': 'https://api.github.com/users/a-o-connor/orgs',\n",
       "  'repos_url': 'https://api.github.com/users/a-o-connor/repos',\n",
       "  'events_url': 'https://api.github.com/users/a-o-connor/events{/privacy}',\n",
       "  'received_events_url': 'https://api.github.com/users/a-o-connor/received_events',\n",
       "  'type': 'User',\n",
       "  'user_view_type': 'public',\n",
       "  'site_admin': False},\n",
       " 'html_url': 'https://github.com/a-o-connor/example_private_repo',\n",
       " 'description': 'An example private repository for learning about OAuth',\n",
       " 'fork': False,\n",
       " 'url': 'https://api.github.com/repos/a-o-connor/example_private_repo',\n",
       " 'forks_url': 'https://api.github.com/repos/a-o-connor/example_private_repo/forks',\n",
       " 'keys_url': 'https://api.github.com/repos/a-o-connor/example_private_repo/keys{/key_id}',\n",
       " 'collaborators_url': 'https://api.github.com/repos/a-o-connor/example_private_repo/collaborators{/collaborator}',\n",
       " 'teams_url': 'https://api.github.com/repos/a-o-connor/example_private_repo/teams',\n",
       " 'hooks_url': 'https://api.github.com/repos/a-o-connor/example_private_repo/hooks',\n",
       " 'issue_events_url': 'https://api.github.com/repos/a-o-connor/example_private_repo/issues/events{/number}',\n",
       " 'events_url': 'https://api.github.com/repos/a-o-connor/example_private_repo/events',\n",
       " 'assignees_url': 'https://api.github.com/repos/a-o-connor/example_private_repo/assignees{/user}',\n",
       " 'branches_url': 'https://api.github.com/repos/a-o-connor/example_private_repo/branches{/branch}',\n",
       " 'tags_url': 'https://api.github.com/repos/a-o-connor/example_private_repo/tags',\n",
       " 'blobs_url': 'https://api.github.com/repos/a-o-connor/example_private_repo/git/blobs{/sha}',\n",
       " 'git_tags_url': 'https://api.github.com/repos/a-o-connor/example_private_repo/git/tags{/sha}',\n",
       " 'git_refs_url': 'https://api.github.com/repos/a-o-connor/example_private_repo/git/refs{/sha}',\n",
       " 'trees_url': 'https://api.github.com/repos/a-o-connor/example_private_repo/git/trees{/sha}',\n",
       " 'statuses_url': 'https://api.github.com/repos/a-o-connor/example_private_repo/statuses/{sha}',\n",
       " 'languages_url': 'https://api.github.com/repos/a-o-connor/example_private_repo/languages',\n",
       " 'stargazers_url': 'https://api.github.com/repos/a-o-connor/example_private_repo/stargazers',\n",
       " 'contributors_url': 'https://api.github.com/repos/a-o-connor/example_private_repo/contributors',\n",
       " 'subscribers_url': 'https://api.github.com/repos/a-o-connor/example_private_repo/subscribers',\n",
       " 'subscription_url': 'https://api.github.com/repos/a-o-connor/example_private_repo/subscription',\n",
       " 'commits_url': 'https://api.github.com/repos/a-o-connor/example_private_repo/commits{/sha}',\n",
       " 'git_commits_url': 'https://api.github.com/repos/a-o-connor/example_private_repo/git/commits{/sha}',\n",
       " 'comments_url': 'https://api.github.com/repos/a-o-connor/example_private_repo/comments{/number}',\n",
       " 'issue_comment_url': 'https://api.github.com/repos/a-o-connor/example_private_repo/issues/comments{/number}',\n",
       " 'contents_url': 'https://api.github.com/repos/a-o-connor/example_private_repo/contents/{+path}',\n",
       " 'compare_url': 'https://api.github.com/repos/a-o-connor/example_private_repo/compare/{base}...{head}',\n",
       " 'merges_url': 'https://api.github.com/repos/a-o-connor/example_private_repo/merges',\n",
       " 'archive_url': 'https://api.github.com/repos/a-o-connor/example_private_repo/{archive_format}{/ref}',\n",
       " 'downloads_url': 'https://api.github.com/repos/a-o-connor/example_private_repo/downloads',\n",
       " 'issues_url': 'https://api.github.com/repos/a-o-connor/example_private_repo/issues{/number}',\n",
       " 'pulls_url': 'https://api.github.com/repos/a-o-connor/example_private_repo/pulls{/number}',\n",
       " 'milestones_url': 'https://api.github.com/repos/a-o-connor/example_private_repo/milestones{/number}',\n",
       " 'notifications_url': 'https://api.github.com/repos/a-o-connor/example_private_repo/notifications{?since,all,participating}',\n",
       " 'labels_url': 'https://api.github.com/repos/a-o-connor/example_private_repo/labels{/name}',\n",
       " 'releases_url': 'https://api.github.com/repos/a-o-connor/example_private_repo/releases{/id}',\n",
       " 'deployments_url': 'https://api.github.com/repos/a-o-connor/example_private_repo/deployments',\n",
       " 'created_at': '2025-02-27T18:03:59Z',\n",
       " 'updated_at': '2025-02-27T18:04:03Z',\n",
       " 'pushed_at': '2025-02-27T18:04:00Z',\n",
       " 'git_url': 'git://github.com/a-o-connor/example_private_repo.git',\n",
       " 'ssh_url': 'git@github.com:a-o-connor/example_private_repo.git',\n",
       " 'clone_url': 'https://github.com/a-o-connor/example_private_repo.git',\n",
       " 'svn_url': 'https://github.com/a-o-connor/example_private_repo',\n",
       " 'homepage': None,\n",
       " 'size': 0,\n",
       " 'stargazers_count': 0,\n",
       " 'watchers_count': 0,\n",
       " 'language': None,\n",
       " 'has_issues': True,\n",
       " 'has_projects': True,\n",
       " 'has_downloads': True,\n",
       " 'has_wiki': False,\n",
       " 'has_pages': False,\n",
       " 'has_discussions': False,\n",
       " 'forks_count': 0,\n",
       " 'mirror_url': None,\n",
       " 'archived': False,\n",
       " 'disabled': False,\n",
       " 'open_issues_count': 0,\n",
       " 'license': None,\n",
       " 'allow_forking': True,\n",
       " 'is_template': False,\n",
       " 'web_commit_signoff_required': False,\n",
       " 'topics': [],\n",
       " 'visibility': 'private',\n",
       " 'forks': 0,\n",
       " 'open_issues': 0,\n",
       " 'watchers': 0,\n",
       " 'default_branch': 'main',\n",
       " 'permissions': {'admin': True,\n",
       "  'maintain': True,\n",
       "  'push': True,\n",
       "  'triage': True,\n",
       "  'pull': True},\n",
       " 'network_count': 0,\n",
       " 'subscribers_count': 1}"
      ]
     },
     "execution_count": 31,
     "metadata": {},
     "output_type": "execute_result"
    }
   ],
   "source": [
    "url = \"https://api.github.com/repos/a-o-connor/example_private_repo\"\n",
    "api_key = config[\"githubapikey\"]\n",
    "response = requests.get(url, auth = (\"token\", api_key))\n",
    "repo_json = response.json()\n",
    "repo_json"
   ]
  },
  {
   "cell_type": "markdown",
   "metadata": {},
   "source": [
    "# Using CURL"
   ]
  },
  {
   "cell_type": "code",
   "execution_count": null,
   "metadata": {},
   "outputs": [],
   "source": [
    "url = \"https://dash.html2pdf.app/\"\n",
    "api_key = config[\"htmltopdfkey\"]\n",
    "api_url = f\"https://api.html2pdf.app/v1/generate?html={url}&apiKey={api_key}\"\n",
    "\n",
    "response = requests.get(api_url)\n",
    "results = response.content\n",
    "\n",
    "with open (\"html2pdf.pdf\", \"wb\") as i:\n",
    "    i.write(results)\n"
   ]
  }
 ],
 "metadata": {
  "kernelspec": {
   "display_name": "base",
   "language": "python",
   "name": "python3"
  },
  "language_info": {
   "codemirror_mode": {
    "name": "ipython",
    "version": 3
   },
   "file_extension": ".py",
   "mimetype": "text/x-python",
   "name": "python",
   "nbconvert_exporter": "python",
   "pygments_lexer": "ipython3",
   "version": "3.12.4"
  }
 },
 "nbformat": 4,
 "nbformat_minor": 2
}
