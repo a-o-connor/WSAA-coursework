{
 "cells": [
  {
   "cell_type": "markdown",
   "metadata": {},
   "source": [
    "## Creating your own Webservice\n",
    "- We have already used cURL, Postman, requests.get() etc. to carry out HTTP requests and get HTTP responses\n",
    "    - HTTP requests (GET, POST, PUT, DELETE) are carried out by the client (Postman, cURL, requests.get(), etc.)\n",
    "    - The request is sent over the internet to the server (e.g. of a server is an API, there are other types of servers)\n",
    "    - The server (e.g. the API) sends a HTTP response back to the client. \n",
    "- Now, we are going to look at the server side. \n",
    "- App Server\n",
    "    - Eg. Flask\n",
    "    - Takes in the HTTP requests and puts together the responses.\n",
    "- The App Server (in our case we will be using flask) can get static pages like html pages, files and serve that out to the client\n",
    "- We can also write some code for an App Server. This can link into a database, or do something. \n",
    "- LOts of different App Servers, Django, Flask, Hug, Dash, buth the principals is the same: **They provide a piece of code that will take in HTTP requests and put out HTTP responses**\n",
    "\n",
    "\n",
    "````\n",
    "#A very simple flask server\n",
    "\n",
    "from flask import Flask\n",
    "app = Flask(__name__)\n",
    "\n",
    "@app.route('/hello_world_aoc')\n",
    "\n",
    "def index():\n",
    "    return \"Hello World!\"\n",
    "\n",
    "app.run(debug=True)\n",
    "````\n"
   ]
  },
  {
   "cell_type": "code",
   "execution_count": 16,
   "metadata": {},
   "outputs": [
    {
     "name": "stdout",
     "output_type": "stream",
     "text": [
      "GET request returns: Put a function here that returns the users?\n",
      "POST request returns: Create a new user\n",
      "PUT request returns: Updoot user\n"
     ]
    }
   ],
   "source": [
    "import requests \n",
    "\n",
    "response_get = requests.get(\"http://127.0.0.1:5000/users\")\n",
    "response_post = requests.post(\"http://127.0.0.1:5000/users\")\n",
    "response_put = requests.put(\"http://127.0.0.1:5000/users\")\n",
    "print(f\"GET request returns: {response_get.text}\\nPOST request returns: {response_post.text}\\nPUT request returns: {response_put.text}\")"
   ]
  },
  {
   "cell_type": "markdown",
   "metadata": {},
   "source": [
    "## How to put data into the server\n",
    "### 3 ways to do that\n",
    "- In the endpoint - like in flask_app_server.py \n",
    "    - \"http://127.0.0.1:5000/users/<int:id>\"\n",
    "- As a query parameter\n",
    "    - After an ? symbol \n",
    "    - \"http://127.0.0.1:5000/users/?name=andrew&sex=male\"\n",
    "- In the http request body as form, json, raw, multipart (file)\n",
    "- We are going to use JSON because we will be concentrating on Restful APIs. \n",
    "\n"
   ]
  },
  {
   "cell_type": "markdown",
   "metadata": {},
   "source": [
    "### Example of using a query parameter\n",
    "````\n",
    "from flask import Flask, request, jsonify\n",
    "\n",
    "app = Flask(__name__, static_url_path=\"\", static_folder=\"staticpages\")\n",
    "\n",
    "@app.route(\"/\")\n",
    "def index():\n",
    "    return \"<h1>AGHHHHHHHH</h1>\"\n",
    "\n",
    "@app.route(\"/inquery\")\n",
    "def inquery():\n",
    "    name = request.args[\"name\"]\n",
    "    return name\n",
    "\n",
    "if __name__ == \"__main__\":\n",
    "    app.run(debug=True)\n",
    "````\n",
    "Now pass the query into the searchbar: \n",
    "http://127.0.0.1:5000/inquery?name=AOC&age=21\n",
    "\n",
    "Server will just return a webpage with AOC \n",
    "\n",
    "If I make it into \n",
    "```` \n",
    "@app.route(\"/inquery\")\n",
    "def inquery():\n",
    "    return request\n",
    "````\n",
    "\n",
    "It will return a dict object \n",
    "\n",
    "{\n",
    "  \"age\": \"21\",\n",
    "  \"name\": \"AOC\"\n",
    "}\n"
   ]
  },
  {
   "cell_type": "code",
   "execution_count": 5,
   "metadata": {},
   "outputs": [
    {
     "name": "stdout",
     "output_type": "stream",
     "text": [
      "{\n",
      "  \"age\": 21,\n",
      "  \"name\": \"AOC\"\n",
      "}\n",
      "\n"
     ]
    }
   ],
   "source": [
    "import requests\n",
    "\n",
    "# Define the JSON data as a Python dictionary\n",
    "data = {\n",
    "    \"name\": \"AOC\",\n",
    "    \"age\": 21\n",
    "}\n",
    "\n",
    "# Send the post request with JSON data\n",
    "response_post = requests.post(\"http://127.0.0.1:5000/inbody\", json=data)\n",
    "print(response_post.text)"
   ]
  }
 ],
 "metadata": {
  "kernelspec": {
   "display_name": "base",
   "language": "python",
   "name": "python3"
  },
  "language_info": {
   "codemirror_mode": {
    "name": "ipython",
    "version": 3
   },
   "file_extension": ".py",
   "mimetype": "text/x-python",
   "name": "python",
   "nbconvert_exporter": "python",
   "pygments_lexer": "ipython3",
   "version": "3.12.4"
  }
 },
 "nbformat": 4,
 "nbformat_minor": 2
}
