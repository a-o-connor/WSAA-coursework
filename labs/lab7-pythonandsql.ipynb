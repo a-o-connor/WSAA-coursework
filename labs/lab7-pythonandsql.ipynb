{
 "cells": [
  {
   "cell_type": "code",
   "execution_count": 1,
   "metadata": {},
   "outputs": [],
   "source": [
    "import mysql.connector"
   ]
  },
  {
   "cell_type": "code",
   "execution_count": null,
   "metadata": {},
   "outputs": [],
   "source": [
    "#CREATE\n",
    "db = mysql.connector.connect(\n",
    "    host=\"localhost\",\n",
    "    user=\"root\",\n",
    "    password=\"\"\n",
    ")\n",
    "cursor=db.cursor()\n",
    "cursor.execute(\"CREATE DATABASE wsaa\")"
   ]
  },
  {
   "cell_type": "code",
   "execution_count": null,
   "metadata": {},
   "outputs": [],
   "source": [
    "#CREATE\n",
    "db = mysql.connector.connect(\n",
    "    host=\"localhost\",\n",
    "    user=\"root\",\n",
    "    password=\"\",\n",
    "    database=\"wsaa\"\n",
    ")\n",
    "cursor=db.cursor()\n",
    "cursor.execute(\"CREATE TABLE student(id INT AUTO_INCREMENT PRIMARY KEY, name VARCHAR(250), age INT)\")"
   ]
  },
  {
   "cell_type": "code",
   "execution_count": 21,
   "metadata": {},
   "outputs": [],
   "source": [
    "#INSERT\n",
    "db = mysql.connector.connect(\n",
    "    host=\"localhost\",\n",
    "    user=\"root\",\n",
    "    password=\"\",\n",
    "    database=\"wsaa\"\n",
    ")\n",
    "cursor=db.cursor()\n",
    "sql = \"INSERT INTO student(name, age) VALUES (%s, %s)\"\n",
    "values = (\"Mary\",21)\n",
    "cursor.execute(sql, values)\n",
    "db.commit()"
   ]
  },
  {
   "cell_type": "code",
   "execution_count": 20,
   "metadata": {},
   "outputs": [
    {
     "name": "stdout",
     "output_type": "stream",
     "text": [
      "[(3, 'joe', 23)]\n"
     ]
    }
   ],
   "source": [
    "#SELECT\n",
    "db = mysql.connector.connect(\n",
    "    host=\"localhost\",\n",
    "    user=\"root\",\n",
    "    password=\"\",\n",
    "    database=\"wsaa\"\n",
    ")\n",
    "cursor=db.cursor()\n",
    "sql = \"SELECT * FROM student WHERE id = %s\"\n",
    "values = (3,)\n",
    "cursor.execute(sql, values)\n",
    "result = cursor.fetchall()\n",
    "print(result)"
   ]
  },
  {
   "cell_type": "code",
   "execution_count": 19,
   "metadata": {},
   "outputs": [],
   "source": [
    "#UPDATE\n",
    "db = mysql.connector.connect(\n",
    "    host=\"localhost\",\n",
    "    user=\"root\",\n",
    "    password=\"\",\n",
    "    database=\"wsaa\"\n",
    ")\n",
    "cursor=db.cursor()\n",
    "sql = \"UPDATE student SET name=%s, age=%s where id=%s\"\n",
    "values = (\"joe\", 23, 3)\n",
    "cursor.execute(sql, values)\n",
    "db.commit()"
   ]
  }
 ],
 "metadata": {
  "kernelspec": {
   "display_name": "base",
   "language": "python",
   "name": "python3"
  },
  "language_info": {
   "codemirror_mode": {
    "name": "ipython",
    "version": 3
   },
   "file_extension": ".py",
   "mimetype": "text/x-python",
   "name": "python",
   "nbconvert_exporter": "python",
   "pygments_lexer": "ipython3",
   "version": "3.12.4"
  }
 },
 "nbformat": 4,
 "nbformat_minor": 2
}
