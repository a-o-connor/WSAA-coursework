{
 "cells": [
  {
   "cell_type": "markdown",
   "metadata": {},
   "source": [
    "## Start the server\n",
    "````\n",
    "C:\\Users\\oconnora\\mysql-9.2.0-winx64\\bin\n",
    "λ mysqld --initialize-insecure --user=mysql\n",
    "\n",
    "C:\\Users\\oconnora\\mysql-9.2.0-winx64\\bin\n",
    "λ mysqld --console\n",
    "````\n",
    "\n",
    "Don't have to do this, but to connect to mysql, open a new command prompt and run: \n",
    "````\n",
    "C:\\Users\\oconnora\\mysql-9.2.0-winx64\\bin\n",
    "mysql -u root\n",
    "\n",
    "````"
   ]
  },
  {
   "cell_type": "code",
   "execution_count": 1,
   "metadata": {},
   "outputs": [],
   "source": [
    "import mysql.connector"
   ]
  },
  {
   "cell_type": "code",
   "execution_count": 4,
   "metadata": {},
   "outputs": [
    {
     "name": "stdout",
     "output_type": "stream",
     "text": [
      "[('information_schema',), ('mysql',), ('performance_schema',), ('sys',), ('wsaa',)]\n"
     ]
    }
   ],
   "source": [
    "#CREATE\n",
    "db = mysql.connector.connect(\n",
    "    host=\"localhost\",\n",
    "    user=\"root\",\n",
    "    password=\"\"\n",
    ")\n",
    "cursor=db.cursor()\n",
    "# cursor.execute(\"CREATE DATABASE wsaa\")\n",
    "cursor.execute(\"SHOW DATABASES\")\n",
    "databases = cursor.fetchall()\n",
    "print(databases)"
   ]
  },
  {
   "cell_type": "code",
   "execution_count": 7,
   "metadata": {},
   "outputs": [
    {
     "name": "stdout",
     "output_type": "stream",
     "text": [
      "[('student',)]\n"
     ]
    }
   ],
   "source": [
    "#CREATE\n",
    "db = mysql.connector.connect(\n",
    "    host=\"localhost\",\n",
    "    user=\"root\",\n",
    "    password=\"\",\n",
    "    database=\"wsaa\"\n",
    ")\n",
    "cursor=db.cursor()\n",
    "# cursor.execute(\"CREATE TABLE student(id INT AUTO_INCREMENT PRIMARY KEY, name VARCHAR(250), age INT)\")\n",
    "cursor.execute(\"SHOW TABLES\")\n",
    "tables = cursor.fetchall()\n",
    "print(tables)"
   ]
  },
  {
   "cell_type": "code",
   "execution_count": 15,
   "metadata": {},
   "outputs": [
    {
     "name": "stdout",
     "output_type": "stream",
     "text": [
      "[]\n"
     ]
    }
   ],
   "source": [
    "#VIEW\n",
    "db = mysql.connector.connect(\n",
    "    host=\"localhost\",\n",
    "    user=\"root\",\n",
    "    password=\"\",\n",
    "    database=\"wsaa\"\n",
    ")\n",
    "cursor=db.cursor()\n",
    "sql = \"SELECT * FROM student\"\n",
    "cursor.execute(sql)\n",
    "student = cursor.fetchall()\n",
    "print(student)"
   ]
  },
  {
   "cell_type": "code",
   "execution_count": 9,
   "metadata": {},
   "outputs": [],
   "source": [
    "#INSERT\n",
    "db = mysql.connector.connect(\n",
    "    host=\"localhost\",\n",
    "    user=\"root\",\n",
    "    password=\"\",\n",
    "    database=\"wsaa\"\n",
    ")\n",
    "cursor=db.cursor()\n",
    "sql = \"INSERT INTO student(name, age) VALUES (%s, %s)\"\n",
    "values = (\"Mary\", 21)\n",
    "cursor.execute(sql, values)\n",
    "db.commit()"
   ]
  },
  {
   "cell_type": "code",
   "execution_count": 13,
   "metadata": {},
   "outputs": [
    {
     "name": "stdout",
     "output_type": "stream",
     "text": [
      "[(1, 'joe', 23)]\n"
     ]
    }
   ],
   "source": [
    "#SELECT\n",
    "db = mysql.connector.connect(\n",
    "    host=\"localhost\",\n",
    "    user=\"root\",\n",
    "    password=\"\",\n",
    "    database=\"wsaa\"\n",
    ")\n",
    "cursor=db.cursor()\n",
    "sql = \"SELECT * FROM student WHERE id = %s\"\n",
    "values = (1,)\n",
    "cursor.execute(sql, values)\n",
    "result = cursor.fetchall()\n",
    "print(result)"
   ]
  },
  {
   "cell_type": "code",
   "execution_count": 12,
   "metadata": {},
   "outputs": [],
   "source": [
    "#UPDATE\n",
    "db = mysql.connector.connect(\n",
    "    host=\"localhost\",\n",
    "    user=\"root\",\n",
    "    password=\"\",\n",
    "    database=\"wsaa\"\n",
    ")\n",
    "cursor=db.cursor()\n",
    "sql = \"UPDATE student SET name=%s, age=%s where id=%s\"\n",
    "values = (\"joe\", 23, 1)\n",
    "cursor.execute(sql, values)\n",
    "db.commit()"
   ]
  },
  {
   "cell_type": "code",
   "execution_count": 14,
   "metadata": {},
   "outputs": [],
   "source": [
    "#DELETE\n",
    "db = mysql.connector.connect(\n",
    "    host=\"localhost\",\n",
    "    user=\"root\",\n",
    "    password=\"\",\n",
    "    database=\"wsaa\"\n",
    ")\n",
    "cursor=db.cursor()\n",
    "sql = \"DELETE FROM student\"\n",
    "cursor.execute(sql)\n",
    "db.commit()"
   ]
  },
  {
   "cell_type": "code",
   "execution_count": 16,
   "metadata": {},
   "outputs": [],
   "source": [
    "#DELETE the table\n",
    "db = mysql.connector.connect(\n",
    "    host=\"localhost\",\n",
    "    user=\"root\",\n",
    "    password=\"\",\n",
    "    database=\"wsaa\"\n",
    ")\n",
    "cursor=db.cursor()\n",
    "sql = \"DROP TABLE student\"\n",
    "cursor.execute(sql)\n",
    "db.commit()"
   ]
  }
 ],
 "metadata": {
  "kernelspec": {
   "display_name": "base",
   "language": "python",
   "name": "python3"
  },
  "language_info": {
   "codemirror_mode": {
    "name": "ipython",
    "version": 3
   },
   "file_extension": ".py",
   "mimetype": "text/x-python",
   "name": "python",
   "nbconvert_exporter": "python",
   "pygments_lexer": "ipython3",
   "version": "3.12.4"
  }
 },
 "nbformat": 4,
 "nbformat_minor": 2
}
